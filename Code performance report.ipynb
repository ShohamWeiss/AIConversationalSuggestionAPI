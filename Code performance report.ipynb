{
 "cells": [
  {
   "cell_type": "code",
   "execution_count": 36,
   "metadata": {
    "collapsed": true
   },
   "outputs": [],
   "source": [
    "import numpy.random as rd\n",
    "\n",
    "a, b = rd.randint(0, 10, size=10), rd.randint(0, 10, size=10)\n",
    "tuple_group = zip(zip(a, b))\n",
    "list_group = list(tuple_group)"
   ]
  },
  {
   "cell_type": "code",
   "execution_count": 37,
   "outputs": [
    {
     "name": "stdout",
     "output_type": "stream",
     "text": [
      "The slowest run took 49.87 times longer than the fastest. This could mean that an intermediate result is being cached.\n",
      "73.3 ns ± 108 ns per loop (mean ± std. dev. of 1000 runs, 1000 loops each)\n"
     ]
    }
   ],
   "source": [
    "%%timeit -r 1000 -n 1000\n",
    "\n",
    "def func_1():\n",
    "    a, b = rd.randint(0, 10, size=10), rd.randint(0, 10, size=10)\n",
    "    tuple_group = zip(zip(a, b))\n",
    "    list_group = list(tuple_group)\n",
    "    result = []\n",
    "    for message in list_group:\n",
    "        result.append([message[0], message[1]])"
   ],
   "metadata": {
    "collapsed": false
   }
  },
  {
   "cell_type": "code",
   "execution_count": 38,
   "outputs": [
    {
     "name": "stdout",
     "output_type": "stream",
     "text": [
      "The slowest run took 118.17 times longer than the fastest. This could mean that an intermediate result is being cached.\n",
      "82.3 ns ± 247 ns per loop (mean ± std. dev. of 1000 runs, 1000 loops each)\n"
     ]
    }
   ],
   "source": [
    "%%timeit -r 1000 -n 1000\n",
    "\n",
    "def revised_func1():\n",
    "    a, b = rd.randint(0, 10, size=10), rd.randint(0, 10, size=10)\n",
    "    tuple_group = zip(zip(a, b))\n",
    "    list_group = list(tuple_group)\n",
    "    result = []\n",
    "    result.extend(list_group)"
   ],
   "metadata": {
    "collapsed": false
   }
  },
  {
   "cell_type": "code",
   "execution_count": 39,
   "outputs": [
    {
     "name": "stdout",
     "output_type": "stream",
     "text": [
      "The slowest run took 110.97 times longer than the fastest. This could mean that an intermediate result is being cached.\n",
      "85.3 ns ± 252 ns per loop (mean ± std. dev. of 1000 runs, 1000 loops each)\n"
     ]
    }
   ],
   "source": [
    "%%timeit -r 1000 -n 1000\n",
    "\n",
    "def func2():\n",
    "    a, b = rd.randint(0, 10, size=10), rd.randint(0, 10, size=10)\n",
    "    tuple_group = zip(zip(a, b))\n",
    "    result = ''\n",
    "    for iterable in tuple_group:\n",
    "        result += f'{iterable[0]}: {iterable[1]}\\n'"
   ],
   "metadata": {
    "collapsed": false
   }
  },
  {
   "cell_type": "code",
   "execution_count": 40,
   "outputs": [
    {
     "name": "stdout",
     "output_type": "stream",
     "text": [
      "The slowest run took 104.71 times longer than the fastest. This could mean that an intermediate result is being cached.\n",
      "85.9 ns ± 231 ns per loop (mean ± std. dev. of 1000 runs, 1000 loops each)\n"
     ]
    }
   ],
   "source": [
    "%%timeit -r 1000 -n 1000\n",
    "\n",
    "def revised_func2(iterables):\n",
    "    a, b = rd.randint(0, 10, size=10), rd.randint(0, 10, size=10)\n",
    "    tuple_group = zip(zip(a, b))\n",
    "    result = '\\n'.join(f'{iterable[0]}: {iterable[1]}' for iterable in tuple_group)"
   ],
   "metadata": {
    "collapsed": false
   }
  }
 ],
 "metadata": {
  "kernelspec": {
   "display_name": "Python 3",
   "language": "python",
   "name": "python3"
  },
  "language_info": {
   "codemirror_mode": {
    "name": "ipython",
    "version": 2
   },
   "file_extension": ".py",
   "mimetype": "text/x-python",
   "name": "python",
   "nbconvert_exporter": "python",
   "pygments_lexer": "ipython2",
   "version": "2.7.6"
  }
 },
 "nbformat": 4,
 "nbformat_minor": 0
}
